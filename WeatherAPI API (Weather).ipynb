{
 "cells": [
  {
   "cell_type": "markdown",
   "metadata": {},
   "source": [
    "# WeatherAPI (Weather)\n",
    "\n",
    "Answer the following questions using [WeatherAPI](http://www.weatherapi.com/). I've added three cells for most questions but you're free to use more or less! Hold `Shift` and hit `Enter` to run a cell, and use the `+` on the top left to add a new cell to a notebook.\n",
    "\n",
    "Be sure to take advantage of both the documentation and the API Explorer!\n",
    "\n",
    "## 0) Import any libraries you might need\n",
    "\n",
    "- *Tip: We're going to be downloading things from the internet, so we probably need `requests`.*\n",
    "- *Tip: Remember you only need to import requests once!*"
   ]
  },
  {
   "cell_type": "code",
   "execution_count": null,
   "metadata": {},
   "outputs": [],
   "source": [
    "import requests"
   ]
  },
  {
   "cell_type": "code",
   "execution_count": null,
   "metadata": {},
   "outputs": [],
   "source": [
    "api_key = '0d3e848d3d2648e4949185759221306'"
   ]
  },
  {
   "cell_type": "markdown",
   "metadata": {
    "collapsed": true
   },
   "source": [
    "## 1) Make a request to the Weather API for where you were born (or lived, or want to visit!).\n",
    "\n",
    "- *Tip: The URL we used in class was for a place near San Francisco. What was the format of the endpoint that made this happen?*\n",
    "- *Tip: Save the URL as a separate variable, and be sure to not have `[` and `]` inside.*\n",
    "- *Tip: How is north vs. south and east vs. west latitude/longitude represented? Is it the normal North/South/East/West?*\n",
    "- *Tip: You know it's JSON, but Python doesn't! Make sure you aren't trying to deal with plain text.* \n",
    "- *Tip: Once you've imported the JSON into a variable, check the timezone's name to make sure it seems like it got the right part of the world!*"
   ]
  },
  {
   "cell_type": "code",
   "execution_count": null,
   "metadata": {},
   "outputs": [],
   "source": [
    "location = 'Norwich'\n",
    "url = f'http://api.weatherapi.com/v1/current.json?key={api_key}&q={location}'\n",
    "\n",
    "r = requests.get(url)\n",
    "data = r.json()"
   ]
  },
  {
   "cell_type": "code",
   "execution_count": null,
   "metadata": {},
   "outputs": [],
   "source": [
    "latitude = data['location']['lat']\n",
    "longitude = data['location']['lon']\n",
    "\n",
    "print(f'The latitude/longitude returned by the Weather API for {location} is {latitude}/{longitude}')"
   ]
  },
  {
   "cell_type": "code",
   "execution_count": null,
   "metadata": {},
   "outputs": [],
   "source": [
    "timezone = data['location']['tz_id']\n",
    "\n",
    "print(f'The timezone returned by the Weather API for {location} is {timezone}')"
   ]
  },
  {
   "cell_type": "markdown",
   "metadata": {},
   "source": [
    "## 2) What's the current wind speed? How much warmer does it feel than it actually is?\n",
    "\n",
    "- *Tip: You can do this by browsing through the dictionaries, but it might be easier to read the documentation*\n",
    "- *Tip: For the second half: it **is** one temperature, and it **feels** a different temperature. Calculate the difference.*"
   ]
  },
  {
   "cell_type": "code",
   "execution_count": null,
   "metadata": {},
   "outputs": [],
   "source": [
    "windspeed_mph = data['current']['wind_mph']\n",
    "\n",
    "print(f'The current wind speed in {location} is {windspeed_mph} mph.')"
   ]
  },
  {
   "cell_type": "code",
   "execution_count": null,
   "metadata": {},
   "outputs": [],
   "source": [
    "current_temp_c = data['current']['temp_c']\n",
    "feels_like_temp_c = data['current']['feelslike_c']\n",
    "temp_difference = feels_like_temp_c - current_temp_c"
   ]
  },
  {
   "cell_type": "code",
   "execution_count": null,
   "metadata": {},
   "outputs": [],
   "source": [
    "if temp_difference > 0:\n",
    "    print(f\"In {location} it currently feels {temp_difference} C warmer than the actual temperature of {current_temp_c} C.\")\n",
    "elif temp_difference < 0:\n",
    "    print(f\"In {location} it currently feels {-temp_difference} C colder than the actual temperature of {current_temp_c} C.\")\n",
    "else:\n",
    "    print(f\"The current temperature in {location} feels the same as the actual temperature, which is {current_temp_c} C.\")"
   ]
  },
  {
   "cell_type": "markdown",
   "metadata": {},
   "source": [
    "## 3) What is the API endpoint for moon-related information? For the place you decided on above, how much of the moon will be visible tomorrow?\n",
    "\n",
    "- *Tip: Check the documentation!*\n",
    "- *Tip: If you aren't sure what something means, ask in Slack*"
   ]
  },
  {
   "cell_type": "code",
   "execution_count": null,
   "metadata": {},
   "outputs": [],
   "source": [
    "astronomy_endpoint = 'http://api.weatherapi.com/v1/astronomy.json'"
   ]
  },
  {
   "cell_type": "code",
   "execution_count": null,
   "metadata": {},
   "outputs": [],
   "source": [
    "url = f'http://api.weatherapi.com/v1/astronomy.json?key={api_key}&q={location}&dt=2022-06-17'\n",
    "\n",
    "r = requests.get(url)\n",
    "data = r.json()"
   ]
  },
  {
   "cell_type": "code",
   "execution_count": null,
   "metadata": {},
   "outputs": [],
   "source": [
    "moon_illumination = data['astronomy']['astro']['moon_illumination']\n",
    "\n",
    "print(f'Tomorrow {moon_illumination}% of the moon will be visible in {location}.')"
   ]
  },
  {
   "cell_type": "markdown",
   "metadata": {},
   "source": [
    "## 4) What's the difference between the high and low temperatures for today?\n",
    "\n",
    "- *Tip: When you requested moon data, you probably overwrote your variables! If so, you'll need to make a new request.*"
   ]
  },
  {
   "cell_type": "code",
   "execution_count": null,
   "metadata": {},
   "outputs": [],
   "source": [
    "url = f'http://api.weatherapi.com/v1/forecast.json?key={api_key}&q={location}&days=1'\n",
    "\n",
    "r = requests.get(url)\n",
    "data = r.json()"
   ]
  },
  {
   "cell_type": "code",
   "execution_count": null,
   "metadata": {},
   "outputs": [],
   "source": [
    "max_temp = data['forecast']['forecastday'][0]['day']['maxtemp_c']\n",
    "min_temp = data['forecast']['forecastday'][0]['day']['mintemp_c']\n",
    "temp_diff = max_temp - min_temp\n",
    "\n",
    "print(f'The difference between the maximum temperature ({max_temp} C) and the minimum temperature ({min_temp} C) is {temp_diff:.1f} C.')"
   ]
  },
  {
   "cell_type": "markdown",
   "metadata": {
    "collapsed": true
   },
   "source": [
    "## 4.5) How can you avoid the \"oh no I don't have the data any more because I made another request\" problem in the future?\n",
    "\n",
    "What variable(s) do you have to rename, and what would you rename them?"
   ]
  },
  {
   "cell_type": "markdown",
   "metadata": {},
   "source": [
    "The variables I would rename are:\n",
    "```\n",
    "url\n",
    "r\n",
    "data\n",
    "```\n",
    "\n",
    "I would rename them in a way that was relevant to the task they were performing, e.g. for question 1 I might use:\n",
    "\n",
    "```\n",
    "current_weather_url\n",
    "current_weather_response\n",
    "current_weather_data\n",
    "```\n",
    "For question 3, I might use:\n",
    "```\n",
    "astronomy_url\n",
    "astronomy_response\n",
    "astronomy_data\n",
    "```"
   ]
  },
  {
   "cell_type": "code",
   "execution_count": null,
   "metadata": {},
   "outputs": [],
   "source": []
  },
  {
   "cell_type": "markdown",
   "metadata": {},
   "source": [
    "## 5) Go through the daily forecasts, printing out the next three days' worth of predictions.\n",
    "\n",
    "I'd like to know the **high temperature** for each day, and whether it's **hot, warm, or cold** (based on what temperatures you think are hot, warm or cold).\n",
    "\n",
    "- *Tip: You'll need to use an `if` statement to say whether it is hot, warm or cold.*"
   ]
  },
  {
   "cell_type": "code",
   "execution_count": null,
   "metadata": {},
   "outputs": [],
   "source": [
    "n_days = 3\n",
    "url = f'http://api.weatherapi.com/v1/forecast.json?key={api_key}&q={location}&days={n_days}'\n",
    "r = requests.get(url)\n",
    "data = r.json()"
   ]
  },
  {
   "cell_type": "code",
   "execution_count": null,
   "metadata": {},
   "outputs": [],
   "source": [
    "forecast_days = data['forecast']['forecastday']"
   ]
  },
  {
   "cell_type": "code",
   "execution_count": null,
   "metadata": {},
   "outputs": [],
   "source": [
    "for day in forecast_days:\n",
    "    date = day['date']\n",
    "    max_temp_c = day['day']['maxtemp_c']\n",
    "\n",
    "    if max_temp_c >= 25:\n",
    "        temp_ranking = 'hot'\n",
    "    elif max_temp_c >= 18:\n",
    "        temp_ranking = 'warm'\n",
    "    else:\n",
    "        temp_ranking = 'cold'\n",
    "\n",
    "    print(f'On {date} the maximum temperature will {max_temp_c}, which is {temp_ranking}')"
   ]
  },
  {
   "cell_type": "markdown",
   "metadata": {},
   "source": [
    "## 5b) The question above used to be an entire week, but not any more. Try to re-use the code above to print out seven days.\n",
    "\n",
    "What happens? Can you figure out why it doesn't work?\n",
    "\n",
    "* *Tip: it has to do with the reason you're using an API key - maybe take a look at the \"Air Quality Data\" introduction for a hint? If you can't figure it out right now, no worries.*"
   ]
  },
  {
   "cell_type": "code",
   "execution_count": null,
   "metadata": {},
   "outputs": [],
   "source": [
    "n_days = 7\n",
    "location = 'Norwich'\n",
    "url = f'http://api.weatherapi.com/v1/forecast.json?key={api_key}&q={location}&days={n_days}&aqi=no'\n",
    "r = requests.get(url)\n",
    "data = r.json()\n",
    "\n",
    "forecast_days = data['forecast']['forecastday']\n",
    "\n",
    "for day in forecast_days:\n",
    "    date = day['date']\n",
    "    max_temp_c = day['day']['maxtemp_c']\n",
    "\n",
    "    if max_temp_c >= 25:\n",
    "        temp_ranking = 'hot'\n",
    "    elif max_temp_c >= 18:\n",
    "        temp_ranking = 'warm'\n",
    "    else:\n",
    "        temp_ranking = 'cold'\n",
    "\n",
    "    print(f'On {date} the maximum temperature will {max_temp_c}, which is {temp_ranking}')"
   ]
  },
  {
   "cell_type": "markdown",
   "metadata": {},
   "source": [
    "The above code only returns forecasts for three days rather than seven due to a limitation of the free subscription plan: \"Depending upon your subscription plan we provide current and 3 day air quality data for the given location in json and xml.\""
   ]
  },
  {
   "cell_type": "markdown",
   "metadata": {},
   "source": [
    "## 6) What will be the hottest day in the next three days? What is the high temperature on that day?"
   ]
  },
  {
   "cell_type": "code",
   "execution_count": null,
   "metadata": {},
   "outputs": [],
   "source": [
    "warmest_temp = -100\n",
    "\n",
    "for day in forecast_days:\n",
    "    date = day['date']\n",
    "    max_temp_c = day['day']['maxtemp_c']\n",
    "\n",
    "    if max_temp_c > warmest_temp:\n",
    "        warmest_temp = max_temp_c\n",
    "        warmest_day = date\n",
    "\n",
    "print(f'The warmest day will be {warmest_day} when it will be {warmest_temp}.')"
   ]
  },
  {
   "cell_type": "markdown",
   "metadata": {},
   "source": [
    "## 7) What's the weather looking like for the next 24+ hours in Miami, Florida?\n",
    "\n",
    "I'd like to know the temperature for every hour, and if it's going to have cloud cover of more than 50% say \"{temperature} and cloudy\" instead of just the temperature. \n",
    "\n",
    "- *Tip: You'll only need one day of forecast*"
   ]
  },
  {
   "cell_type": "code",
   "execution_count": null,
   "metadata": {},
   "outputs": [],
   "source": [
    "location = 'Miami, FL'\n",
    "url = f'http://api.weatherapi.com/v1/forecast.json?key={api_key}&q={location}'\n",
    "r = requests.get(url)\n",
    "data = r.json()\n",
    "\n",
    "hourly_forecasts = data['forecast']['forecastday'][0]['hour']\n",
    "\n",
    "for hour in hourly_forecasts:\n",
    "    time = hour['time']\n",
    "    temp_c = hour['temp_c']\n",
    "    cloud_cover = hour['cloud']\n",
    "\n",
    "    if cloud_cover > 50:\n",
    "        cloud_desc = 'cloudy'\n",
    "    else:\n",
    "        cloud_desc = 'clear'\n",
    "\n",
    "    print(f'{time}: Temperature forecast is {temp_c} C and {cloud_desc} ({cloud_cover}% cloud cover).')"
   ]
  },
  {
   "cell_type": "markdown",
   "metadata": {},
   "source": [
    "## 8) For the next 24-ish hours in Miami, what percent of the time is the temperature above 85 degrees?\n",
    "\n",
    "- *Tip: You might want to read up on [looping patterns](http://jonathansoma.com/lede/foundations-2017/classes/data%20structures/looping-patterns/)*"
   ]
  },
  {
   "cell_type": "code",
   "execution_count": null,
   "metadata": {},
   "outputs": [],
   "source": [
    "hour_count = 0\n",
    "over_85_count = 0\n",
    "\n",
    "for hour in hourly_forecasts:\n",
    "    hour_count += 1\n",
    "\n",
    "    temp_f = hour['temp_f']\n",
    "\n",
    "    if temp_f > 85:\n",
    "        over_85_count += 1\n",
    "\n",
    "prop_time_over_85 = (over_85_count / hour_count) * 100\n",
    "print(f'The temperate will be over 85 degrees (F) {prop_time_over_85:.1f}% of the time in the next 24 hours.')"
   ]
  },
  {
   "cell_type": "markdown",
   "metadata": {},
   "source": [
    "## 9) How much will it cost if you need to use 1,500,000 API calls?\n",
    "\n",
    "You are only allowed 1,000,000 API calls each month. If you were really bad at this homework or made some awful loops, WeatherAPI might shut down your free access. \n",
    "\n",
    "* *Tip: this involves looking somewhere that isn't the normal documentation.*"
   ]
  },
  {
   "cell_type": "markdown",
   "metadata": {},
   "source": [
    "Answer: Per the Weather API [pricing](https://www.weatherapi.com/pricing.aspx) page, a developer account costs $4/month and permits 2,000,000 calls per month."
   ]
  },
  {
   "cell_type": "markdown",
   "metadata": {},
   "source": [
    "## 10) You're too poor to spend more money! What else could you do instead of give them money?\n",
    "\n",
    "* *Tip: I'm not endorsing being sneaky, but newsrooms and students are both generally poverty-stricken.*"
   ]
  },
  {
   "cell_type": "markdown",
   "metadata": {},
   "source": [
    "Answer: To avoid paying, you could open additional free accounts and use multiple API keys."
   ]
  }
 ],
 "metadata": {
  "kernelspec": {
   "display_name": "lede_program",
   "language": "python",
   "name": "lede_program"
  },
  "language_info": {
   "codemirror_mode": {
    "name": "ipython",
    "version": 3
   },
   "file_extension": ".py",
   "mimetype": "text/x-python",
   "name": "python",
   "nbconvert_exporter": "python",
   "pygments_lexer": "ipython3",
   "version": "3.10.3"
  }
 },
 "nbformat": 4,
 "nbformat_minor": 1
}
